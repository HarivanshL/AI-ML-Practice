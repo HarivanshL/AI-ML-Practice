{
 "cells": [
  {
   "cell_type": "markdown",
   "id": "5e555152-4f04-4232-8d9f-746e98ec3523",
   "metadata": {},
   "source": [
    "### Author: Harivansh Luchmun\n",
    "\n",
    "# Linear Model\n",
    "\n",
    "\n",
    "\n",
    "## I will read in a datasest, display the data, create and train a linear model on the data, and evaluate its performance\n"
   ]
  },
  {
   "cell_type": "markdown",
   "id": "fbae2323-9b24-4cc9-a2b4-624761f75cc6",
   "metadata": {},
   "source": [
    "# Imports"
   ]
  },
  {
   "cell_type": "code",
   "execution_count": 1,
   "id": "751be9e3-72d9-41e3-aa92-514a4c1b0c95",
   "metadata": {},
   "outputs": [
    {
     "name": "stdout",
     "output_type": "stream",
     "text": [
      "The history saving thread hit an unexpected error (OperationalError('attempt to write a readonly database')).History will not be written to the database.\n"
     ]
    }
   ],
   "source": [
    "from sklearn.linear_model import LinearRegression\n",
    "import pandas as pd\n",
    "import numpy as np"
   ]
  },
  {
   "cell_type": "code",
   "execution_count": null,
   "id": "14b334b7-95fb-4ca4-8b9e-8be2b4d62405",
   "metadata": {},
   "outputs": [],
   "source": []
  }
 ],
 "metadata": {
  "kernelspec": {
   "display_name": "Python 3 (ipykernel)",
   "language": "python",
   "name": "python3"
  },
  "language_info": {
   "codemirror_mode": {
    "name": "ipython",
    "version": 3
   },
   "file_extension": ".py",
   "mimetype": "text/x-python",
   "name": "python",
   "nbconvert_exporter": "python",
   "pygments_lexer": "ipython3",
   "version": "3.12.3"
  }
 },
 "nbformat": 4,
 "nbformat_minor": 5
}
